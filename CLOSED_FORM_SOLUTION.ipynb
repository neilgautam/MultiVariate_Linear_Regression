{
 "cells": [
  {
   "cell_type": "code",
   "execution_count": 1,
   "metadata": {},
   "outputs": [],
   "source": [
    "import numpy as np\n",
    "import pandas as pd\n",
    "import matplotlib.pyplot as plt"
   ]
  },
  {
   "cell_type": "code",
   "execution_count": 2,
   "metadata": {},
   "outputs": [
    {
     "data": {
      "text/plain": [
       "'C:\\\\Users\\\\Neil\\\\Downloads'"
      ]
     },
     "execution_count": 2,
     "metadata": {},
     "output_type": "execute_result"
    }
   ],
   "source": [
    "pwd"
   ]
  },
  {
   "cell_type": "code",
   "execution_count": 3,
   "metadata": {},
   "outputs": [],
   "source": [
    "data = pd.read_csv(\"Salary_Data.csv\")"
   ]
  },
  {
   "cell_type": "code",
   "execution_count": 5,
   "metadata": {},
   "outputs": [],
   "source": [
    "data = data.values"
   ]
  },
  {
   "cell_type": "code",
   "execution_count": 14,
   "metadata": {},
   "outputs": [],
   "source": [
    "x= data[:,0:1]\n",
    "y = data[:,1:2]"
   ]
  },
  {
   "cell_type": "code",
   "execution_count": 15,
   "metadata": {},
   "outputs": [
    {
     "name": "stdout",
     "output_type": "stream",
     "text": [
      "[[ 1.   1.1]\n",
      " [ 1.   1.3]\n",
      " [ 1.   1.5]\n",
      " [ 1.   2. ]\n",
      " [ 1.   2.2]\n",
      " [ 1.   2.9]\n",
      " [ 1.   3. ]\n",
      " [ 1.   3.2]\n",
      " [ 1.   3.2]\n",
      " [ 1.   3.7]\n",
      " [ 1.   3.9]\n",
      " [ 1.   4. ]\n",
      " [ 1.   4. ]\n",
      " [ 1.   4.1]\n",
      " [ 1.   4.5]\n",
      " [ 1.   4.9]\n",
      " [ 1.   5.1]\n",
      " [ 1.   5.3]\n",
      " [ 1.   5.9]\n",
      " [ 1.   6. ]\n",
      " [ 1.   6.8]\n",
      " [ 1.   7.1]\n",
      " [ 1.   7.9]\n",
      " [ 1.   8.2]\n",
      " [ 1.   8.7]\n",
      " [ 1.   9. ]\n",
      " [ 1.   9.5]\n",
      " [ 1.   9.6]\n",
      " [ 1.  10.3]\n",
      " [ 1.  10.5]]\n"
     ]
    }
   ],
   "source": [
    "ones = np.ones((x.shape[0],1))\n",
    "x = np.c_[ones,x]\n",
    "print(x)"
   ]
  },
  {
   "cell_type": "code",
   "execution_count": 41,
   "metadata": {},
   "outputs": [],
   "source": [
    "def ClosedFormSol(x_train,y_train):\n",
    "    x_train = np.array(x_train)\n",
    "    y_train = np.array(y_train)\n",
    "    \n",
    "    first_part = np.dot(x_train.T,x_train)\n",
    "    second_part = np.dot(x_train.T,y_train)\n",
    "    \n",
    "    theta = np.dot(np.linalg.pinv(first_part),second_part)\n",
    "    return theta\n"
   ]
  },
  {
   "cell_type": "code",
   "execution_count": 42,
   "metadata": {},
   "outputs": [],
   "source": [
    "from sklearn.model_selection import train_test_split\n",
    "x_train,x_test,y_train,y_test = train_test_split(x,y,test_size = 0.2)\n",
    "theta = ClosedFormSol(x_train,y_train)"
   ]
  },
  {
   "cell_type": "code",
   "execution_count": 43,
   "metadata": {},
   "outputs": [],
   "source": [
    "def predict(x_test,theta):\n",
    "    y_pred = np.dot(x_test,theta)\n",
    "    return y_pred"
   ]
  },
  {
   "cell_type": "code",
   "execution_count": 44,
   "metadata": {},
   "outputs": [
    {
     "name": "stdout",
     "output_type": "stream",
     "text": [
      "(6, 1)\n",
      "(6, 1)\n",
      "(6, 2)\n",
      "(24, 2)\n",
      "(24, 1)\n"
     ]
    }
   ],
   "source": [
    "y_pred = predict(x_test,theta)\n",
    "print(y_pred.shape)\n",
    "print(y_test.shape)\n",
    "print(x_test.shape)\n",
    "print(x_train.shape)\n",
    "print(y_train.shape)"
   ]
  },
  {
   "cell_type": "code",
   "execution_count": 48,
   "metadata": {},
   "outputs": [
    {
     "data": {
      "image/png": "[encoded data removed]",
      "text/plain": [
       "<Figure size 432x288 with 1 Axes>"
      ]
     },
     "metadata": {
      "needs_background": "light"
     },
     "output_type": "display_data"
    }
   ],
   "source": [
    "plt.scatter(x_test[:,1],y_test,color = \"red\",label = \"real values\")\n",
    "plt.scatter(x_test[:,1],y_pred,color = \"blue\",label = \"predictions\")\n",
    "plt.legend()\n",
    "plt.show()"
   ]
  },
  {
   "cell_type": "code",
   "execution_count": null,
   "metadata": {},
   "outputs": [],
   "source": []
  }
 ],
 "metadata": {
  "kernelspec": {
   "display_name": "Python 3",
   "language": "python",
   "name": "python3"
  },
  "language_info": {
   "codemirror_mode": {
    "name": "ipython",
    "version": 3
   },
   "file_extension": ".py",
   "mimetype": "text/x-python",
   "name": "python",
   "nbconvert_exporter": "python",
   "pygments_lexer": "ipython3",
   "version": "3.7.3"
  }
 },
 "nbformat": 4,
 "nbformat_minor": 2
}
