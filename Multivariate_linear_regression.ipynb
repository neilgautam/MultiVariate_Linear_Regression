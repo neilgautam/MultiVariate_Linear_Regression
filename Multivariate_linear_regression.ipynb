{
 "cells": [
  {
   "cell_type": "code",
   "execution_count": 78,
   "metadata": {},
   "outputs": [],
   "source": [
    "import numpy as np\n",
    "import pandas as pd\n",
    "import matplotlib.pyplot as plt\n"
   ]
  },
  {
   "cell_type": "code",
   "execution_count": 79,
   "metadata": {},
   "outputs": [],
   "source": [
    "def hypothesis(x,theta):\n",
    "    x = x.reshape((-1,1))\n",
    "    theta = theta.reshape((-1,1))\n",
    "    predicted = np.dot(theta.T,x)\n",
    "    return predicted[0][0]\n"
   ]
  },
  {
   "cell_type": "code",
   "execution_count": 80,
   "metadata": {},
   "outputs": [],
   "source": [
    "def error(x,y,theta):\n",
    "    m  = x.shape[0]\n",
    "    n = x.shape[1]\n",
    "    err = 0\n",
    "    for i in range(m):\n",
    "        err+= (hypothesis(x[i],theta)-y[i])**2\n",
    "    return err*0.5\n"
   ]
  },
  {
   "cell_type": "code",
   "execution_count": 81,
   "metadata": {},
   "outputs": [],
   "source": [
    "def gradient(x,y,theta):\n",
    "    m = x.shape[0]\n",
    "    n = x.shape[1]\n",
    "    grad = np.zeros((n,))\n",
    "    for i in range(m):\n",
    "        current_x = x[i]\n",
    "        for j in range(n):\n",
    "            grad[j] += (hypothesis(current_x,theta)-y[i])*current_x[j]\n",
    "    return grad"
   ]
  },
  {
   "cell_type": "code",
   "execution_count": 82,
   "metadata": {},
   "outputs": [],
   "source": [
    "def LinearRegression(x,y,learning_rate=0.01):\n",
    "    m = x.shape[0]\n",
    "    n = x.shape[1]\n",
    "    theta = np.zeros((n,))\n",
    "    max_iter  = 50\n",
    "    error_list = []\n",
    "    for i in range(max_iter):\n",
    "        err = error(x,y,theta)\n",
    "        error_list.append(err)\n",
    "        grad = gradient(x,y,theta)\n",
    "        for j in range(n):\n",
    "            theta[j] = theta[j]- learning_rate*grad[j]\n",
    "    return theta,error_list"
   ]
  },
  {
   "cell_type": "code",
   "execution_count": null,
   "metadata": {},
   "outputs": [],
   "source": []
  }
 ],
 "metadata": {
  "kernelspec": {
   "display_name": "Python 3",
   "language": "python",
   "name": "python3"
  },
  "language_info": {
   "codemirror_mode": {
    "name": "ipython",
    "version": 3
   },
   "file_extension": ".py",
   "mimetype": "text/x-python",
   "name": "python",
   "nbconvert_exporter": "python",
   "pygments_lexer": "ipython3",
   "version": "3.7.3"
  }
 },
 "nbformat": 4,
 "nbformat_minor": 2
}
